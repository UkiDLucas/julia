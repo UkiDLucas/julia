{
 "cells": [
  {
   "cell_type": "markdown",
   "metadata": {},
   "source": [
    "# Julia GPU Support\n",
    "\n",
    "- https://juliagpu.gitlab.io/CUDA.jl/"
   ]
  },
  {
   "cell_type": "markdown",
   "metadata": {
    "toc": true
   },
   "source": [
    "<h1>Table of Contents<span class=\"tocSkip\"></span></h1>\n",
    "<div class=\"toc\"><ul class=\"toc-item\"><li><span><a href=\"#Julia-GPU-Support\" data-toc-modified-id=\"Julia-GPU-Support-1\">Julia GPU Support</a></span></li><li><span><a href=\"#Julia-Threads-(JULIA_NUM_THREADS)\" data-toc-modified-id=\"Julia-Threads-(JULIA_NUM_THREADS)-2\">Julia Threads (JULIA_NUM_THREADS)</a></span><ul class=\"toc-item\"><li><span><a href=\"#Windows-10\" data-toc-modified-id=\"Windows-10-2.1\">Windows 10</a></span><ul class=\"toc-item\"><li><span><a href=\"#Command-Prompt\" data-toc-modified-id=\"Command-Prompt-2.1.1\">Command Prompt</a></span></li></ul></li></ul></li><li><span><a href=\"#CUDA-Package\" data-toc-modified-id=\"CUDA-Package-3\">CUDA Package</a></span><ul class=\"toc-item\"><li><span><a href=\"#Parallelization-using-CPU\" data-toc-modified-id=\"Parallelization-using-CPU-3.1\">Parallelization using CPU</a></span><ul class=\"toc-item\"><li><span><a href=\"#Parallelization-using-Threads\" data-toc-modified-id=\"Parallelization-using-Threads-3.1.1\">Parallelization using Threads</a></span></li></ul></li></ul></li></ul></div>"
   ]
  },
  {
   "cell_type": "markdown",
   "metadata": {},
   "source": [
    "# Julia Threads (JULIA_NUM_THREADS)\n",
    "\n",
    "## Windows 10\n",
    "\n",
    "### Command Prompt\n",
    "\n",
    "- C:\\Users\\UkiDL>set JULIA_NUM_THREADS=6\n",
    "- C:\\Users\\UkiDL>setx JULIA_NUM_THREADS=6  # set permanantly, persists after closing cmd window\n",
    "- C:\\Users\\UkiDL>echo %JULIA_NUM_THREADS%\n",
    "- 6\n",
    "\n",
    "Unfortunately, this does not work when starting Jupyther from Anaconda prompt. \n",
    "\n",
    "- Threads.nthreads() \n",
    "\n",
    "returns 1"
   ]
  },
  {
   "cell_type": "code",
   "execution_count": 2,
   "metadata": {},
   "outputs": [
    {
     "data": {
      "text/plain": [
       "1"
      ]
     },
     "execution_count": 2,
     "metadata": {},
     "output_type": "execute_result"
    }
   ],
   "source": [
    "# ! set JULIA_NUM_THREADS=4\n",
    "Threads.nthreads()"
   ]
  },
  {
   "cell_type": "markdown",
   "metadata": {},
   "source": [
    "# CUDA Package\n",
    "\n",
    "This package requires the CUDA driver to be already installed."
   ]
  },
  {
   "cell_type": "code",
   "execution_count": 3,
   "metadata": {
    "code_folding": []
   },
   "outputs": [],
   "source": [
    "# Uncomment for the update\n",
    "# using Pkg\n",
    "# Pkg.add(\"CUDA\")\n",
    "# Pkg.test(\"CUDA\")"
   ]
  },
  {
   "cell_type": "code",
   "execution_count": 4,
   "metadata": {},
   "outputs": [
    {
     "data": {
      "text/plain": [
       "\u001b[32m\u001b[1mTest Passed\u001b[22m\u001b[39m"
      ]
     },
     "execution_count": 4,
     "metadata": {},
     "output_type": "execute_result"
    }
   ],
   "source": [
    "size = 2^20             # 1,048,576\n",
    "#x = fill(1.0f0, size)  # a vector filled with 1.0 (Float32)\n",
    "x = fill(1.0, size)     # 1048576-element Array{Float64,1}\n",
    "y = fill(2, size)       # 1048576-element Array{Int64,1}:\n",
    "\n",
    "y .+= x                 # add each element of x to each element of y\n",
    "\n",
    "using Test\n",
    "@test all(y .== 3.0)"
   ]
  },
  {
   "cell_type": "markdown",
   "metadata": {},
   "source": [
    "## Parallelization using CPU"
   ]
  },
  {
   "cell_type": "code",
   "execution_count": 5,
   "metadata": {},
   "outputs": [
    {
     "data": {
      "text/plain": [
       "\u001b[32m\u001b[1mTest Passed\u001b[22m\u001b[39m"
      ]
     },
     "execution_count": 5,
     "metadata": {},
     "output_type": "execute_result"
    }
   ],
   "source": [
    "function sequential_add!(y, x)\n",
    "    for i in eachindex(y, x)\n",
    "        @inbounds y[i] += x[i]\n",
    "    end\n",
    "    return nothing\n",
    "end\n",
    "\n",
    "fill!(y, 2)\n",
    "sequential_add!(y, x)\n",
    "@test all(y .== 3.0f0)"
   ]
  },
  {
   "cell_type": "markdown",
   "metadata": {},
   "source": [
    "### Parallelization using Threads"
   ]
  },
  {
   "cell_type": "code",
   "execution_count": 6,
   "metadata": {},
   "outputs": [
    {
     "data": {
      "text/plain": [
       "\u001b[32m\u001b[1mTest Passed\u001b[22m\u001b[39m"
      ]
     },
     "execution_count": 6,
     "metadata": {},
     "output_type": "execute_result"
    }
   ],
   "source": [
    "function parallel_add!(y, x)\n",
    "    Threads.@threads for i in eachindex(y, x)\n",
    "        @inbounds y[i] += x[i]\n",
    "    end\n",
    "    return nothing\n",
    "end\n",
    "\n",
    "fill!(y, 2)\n",
    "parallel_add!(y, x)\n",
    "@test all(y .== 3.0f0)"
   ]
  },
  {
   "cell_type": "code",
   "execution_count": 7,
   "metadata": {},
   "outputs": [
    {
     "name": "stdout",
     "output_type": "stream",
     "text": [
      "  1.477 ms (0 allocations: 0 bytes)\n"
     ]
    }
   ],
   "source": [
    "using BenchmarkTools\n",
    "@btime sequential_add!($y, $x)"
   ]
  },
  {
   "cell_type": "code",
   "execution_count": 8,
   "metadata": {},
   "outputs": [
    {
     "name": "stdout",
     "output_type": "stream",
     "text": [
      "  1.482 ms (6 allocations: 944 bytes)\n"
     ]
    }
   ],
   "source": [
    "@btime parallel_add!($y, $x)"
   ]
  },
  {
   "cell_type": "code",
   "execution_count": null,
   "metadata": {},
   "outputs": [],
   "source": []
  },
  {
   "cell_type": "code",
   "execution_count": null,
   "metadata": {},
   "outputs": [],
   "source": []
  },
  {
   "cell_type": "code",
   "execution_count": 9,
   "metadata": {},
   "outputs": [
    {
     "name": "stdout",
     "output_type": "stream",
     "text": [
      "Wed Sep 16 21:11:01 2020       \r\n",
      "+-----------------------------------------------------------------------------+\r\n",
      "| NVIDIA-SMI 460.15       Driver Version: 460.15       CUDA Version: 11.1     |\r\n",
      "|-------------------------------+----------------------+----------------------+\r\n",
      "| GPU  Name            TCC/WDDM | Bus-Id        Disp.A | Volatile Uncorr. ECC |\r\n",
      "| Fan  Temp  Perf  Pwr:Usage/Cap|         Memory-Usage | GPU-Util  Compute M. |\r\n",
      "|===============================+======================+======================|\r\n",
      "|   0  GeForce GTX 166... WDDM  | 00000000:01:00.0  On |                  N/A |\r\n",
      "| N/A   50C    P0    20W /  N/A |    329MiB /  6144MiB |      0%      Default |\r\n",
      "+-------------------------------+----------------------+----------------------+\r\n",
      "                                                                               \r\n",
      "+-----------------------------------------------------------------------------+\r\n",
      "| Processes:                                                                  |\r\n",
      "|  GPU   GI   CI        PID   Type   Process name                  GPU Memory |\r\n",
      "|        ID   ID                                                   Usage      |\r\n",
      "|=============================================================================|\r\n",
      "|    0   N/A  N/A      1552    C+G   Insufficient Permissions        N/A      |\r\n",
      "|    0   N/A  N/A      8484    C+G   ...ty\\Common7\\IDE\\devenv.exe    N/A      |\r\n",
      "|    0   N/A  N/A     13876    C+G   ...rvice\\ePowerButton_NB.exe    N/A      |\r\n",
      "+-----------------------------------------------------------------------------+\r\n"
     ]
    }
   ],
   "source": [
    ";nvidia-smi"
   ]
  },
  {
   "cell_type": "code",
   "execution_count": null,
   "metadata": {},
   "outputs": [],
   "source": []
  }
 ],
 "metadata": {
  "kernelspec": {
   "display_name": "Julia 1.5.0",
   "language": "julia",
   "name": "julia-1.5"
  },
  "language_info": {
   "file_extension": ".jl",
   "mimetype": "application/julia",
   "name": "julia",
   "version": "1.5.0"
  },
  "toc": {
   "base_numbering": "1.0",
   "nav_menu": {},
   "number_sections": false,
   "sideBar": true,
   "skip_h1_title": false,
   "title_cell": "Table of Contents",
   "title_sidebar": "Contents",
   "toc_cell": true,
   "toc_position": {},
   "toc_section_display": true,
   "toc_window_display": true
  }
 },
 "nbformat": 4,
 "nbformat_minor": 4
}
