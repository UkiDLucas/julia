{
 "cells": [
  {
   "cell_type": "markdown",
   "metadata": {},
   "source": [
    "# Julia GPU Support\n",
    "\n",
    "- https://juliagpu.gitlab.io/CUDA.jl/"
   ]
  },
  {
   "cell_type": "markdown",
   "metadata": {
    "toc": true
   },
   "source": [
    "<h1>Table of Contents<span class=\"tocSkip\"></span></h1>\n",
    "<div class=\"toc\"><ul class=\"toc-item\"><li><span><a href=\"#Julia-GPU-Support\" data-toc-modified-id=\"Julia-GPU-Support-1\">Julia GPU Support</a></span></li><li><span><a href=\"#Julia-Threads-(JULIA_NUM_THREADS)\" data-toc-modified-id=\"Julia-Threads-(JULIA_NUM_THREADS)-2\">Julia Threads (JULIA_NUM_THREADS)</a></span><ul class=\"toc-item\"><li><span><a href=\"#Windows-10\" data-toc-modified-id=\"Windows-10-2.1\">Windows 10</a></span><ul class=\"toc-item\"><li><span><a href=\"#Command-Prompt\" data-toc-modified-id=\"Command-Prompt-2.1.1\">Command Prompt</a></span></li></ul></li></ul></li><li><span><a href=\"#CUDA-Package\" data-toc-modified-id=\"CUDA-Package-3\">CUDA Package</a></span><ul class=\"toc-item\"><li><span><a href=\"#Parallelization-using-CPU\" data-toc-modified-id=\"Parallelization-using-CPU-3.1\">Parallelization using CPU</a></span><ul class=\"toc-item\"><li><span><a href=\"#Parallelization-using-Threads\" data-toc-modified-id=\"Parallelization-using-Threads-3.1.1\">Parallelization using Threads</a></span></li></ul></li></ul></li></ul></div>"
   ]
  },
  {
   "cell_type": "markdown",
   "metadata": {},
   "source": [
    "# Julia Threads (JULIA_NUM_THREADS)\n",
    "\n",
    "## MacOs\n",
    "\n",
    "Set enviroment variable:\n",
    "- nano ~/.bash_profile     # EDIT variables\n",
    "- export JULIA_NUM_THREADS=4 # ADD this line\n",
    "- source  ~/.bash_profile  # REFRESH the terminal\n",
    "- REPOS $ jupyter lab # restart jupyter notebook\n",
    "\n",
    "## Windows 10\n",
    "\n",
    "### Command Prompt\n",
    "\n",
    "- C:\\Users\\UkiDL>set JULIA_NUM_THREADS=6\n",
    "- C:\\Users\\UkiDL>setx JULIA_NUM_THREADS=6  # set permanantly, persists after closing cmd window\n",
    "- C:\\Users\\UkiDL>echo %JULIA_NUM_THREADS%\n",
    "- 6\n",
    "\n",
    "Unfortunately, this does not work when starting Jupyther from Anaconda prompt. \n",
    "\n",
    "- Threads.nthreads() \n",
    "\n",
    "returns 1"
   ]
  },
  {
   "cell_type": "code",
   "execution_count": 12,
   "metadata": {},
   "outputs": [
    {
     "data": {
      "text/plain": [
       "4"
      ]
     },
     "execution_count": 12,
     "metadata": {},
     "output_type": "execute_result"
    }
   ],
   "source": [
    "# MacBook Pro: 4\n",
    "# Win 10 Anaconda Prompt: 1\n",
    "Threads.nthreads()"
   ]
  },
  {
   "cell_type": "markdown",
   "metadata": {},
   "source": [
    "# CUDA Package\n",
    "\n",
    "This package requires the CUDA driver to be already installed."
   ]
  },
  {
   "cell_type": "code",
   "execution_count": 2,
   "metadata": {
    "code_folding": []
   },
   "outputs": [],
   "source": [
    "# Uncomment for the update\n",
    "# using Pkg\n",
    "# Pkg.add(\"CUDA\")\n",
    "# Pkg.test(\"CUDA\")"
   ]
  },
  {
   "cell_type": "code",
   "execution_count": 3,
   "metadata": {},
   "outputs": [
    {
     "data": {
      "text/plain": [
       "\u001b[32m\u001b[1mTest Passed\u001b[22m\u001b[39m"
      ]
     },
     "execution_count": 3,
     "metadata": {},
     "output_type": "execute_result"
    }
   ],
   "source": [
    "size = 2^20             # 1,048,576\n",
    "#x = fill(1.0f0, size)  # a vector filled with 1.0 (Float32)\n",
    "x = fill(1.0, size)     # 1048576-element Array{Float64,1}\n",
    "y = fill(2, size)       # 1048576-element Array{Int64,1}:\n",
    "\n",
    "y .+= x                 # add each element of x to each element of y\n",
    "\n",
    "using Test\n",
    "@test all(y .== 3.0)"
   ]
  },
  {
   "cell_type": "markdown",
   "metadata": {},
   "source": [
    "## Parallelization using CPU"
   ]
  },
  {
   "cell_type": "code",
   "execution_count": 4,
   "metadata": {},
   "outputs": [
    {
     "data": {
      "text/plain": [
       "\u001b[32m\u001b[1mTest Passed\u001b[22m\u001b[39m"
      ]
     },
     "execution_count": 4,
     "metadata": {},
     "output_type": "execute_result"
    }
   ],
   "source": [
    "function sequential_add!(y, x)\n",
    "    for i in eachindex(y, x)\n",
    "        @inbounds y[i] += x[i]\n",
    "    end\n",
    "    return nothing\n",
    "end\n",
    "\n",
    "fill!(y, 2)\n",
    "sequential_add!(y, x)\n",
    "@test all(y .== 3.0f0)"
   ]
  },
  {
   "cell_type": "markdown",
   "metadata": {},
   "source": [
    "### Parallelization using Threads"
   ]
  },
  {
   "cell_type": "code",
   "execution_count": 7,
   "metadata": {},
   "outputs": [
    {
     "data": {
      "text/plain": [
       "\u001b[32m\u001b[1mTest Passed\u001b[22m\u001b[39m"
      ]
     },
     "execution_count": 7,
     "metadata": {},
     "output_type": "execute_result"
    }
   ],
   "source": [
    "function parallel_add!(y, x)\n",
    "    Threads.@threads for i in eachindex(y, x)\n",
    "        @inbounds y[i] += x[i]\n",
    "    end\n",
    "    return nothing\n",
    "end\n",
    "\n",
    "fill!(y, 2)\n",
    "parallel_add!(y, x)\n",
    "@test all(y .== 3.0f0)"
   ]
  },
  {
   "cell_type": "code",
   "execution_count": 8,
   "metadata": {},
   "outputs": [
    {
     "name": "stdout",
     "output_type": "stream",
     "text": [
      "  1.853 ms (0 allocations: 0 bytes)\n"
     ]
    }
   ],
   "source": [
    "using BenchmarkTools\n",
    "@btime sequential_add!($y, $x)\n",
    "# 1.477 ms (0 allocations: 0 bytes) -- Predator Helios 300 Win 10\n",
    "# 1.853 ms (0 allocations: 0 bytes) -- MacBook Pro"
   ]
  },
  {
   "cell_type": "code",
   "execution_count": 10,
   "metadata": {},
   "outputs": [
    {
     "name": "stdout",
     "output_type": "stream",
     "text": [
      "  658.215 μs (23 allocations: 2.72 KiB)\n"
     ]
    }
   ],
   "source": [
    "@btime parallel_add!($y, $x)\n",
    "# 1.482 ms (6 allocations: 944 bytes)  -- Predator Helios 300 Win 10\n",
    "# 660.600 μs (23 allocations: 2.72 KiB) -- MacBook Pro"
   ]
  },
  {
   "cell_type": "code",
   "execution_count": null,
   "metadata": {},
   "outputs": [],
   "source": []
  },
  {
   "cell_type": "code",
   "execution_count": null,
   "metadata": {},
   "outputs": [],
   "source": []
  },
  {
   "cell_type": "code",
   "execution_count": 11,
   "metadata": {},
   "outputs": [
    {
     "name": "stderr",
     "output_type": "stream",
     "text": [
      "/bin/bash: nvidia-smi: command not found\n"
     ]
    }
   ],
   "source": [
    ";nvidia-smi"
   ]
  },
  {
   "cell_type": "code",
   "execution_count": null,
   "metadata": {},
   "outputs": [],
   "source": []
  }
 ],
 "metadata": {
  "kernelspec": {
   "display_name": "Julia 1.4.2",
   "language": "julia",
   "name": "julia-1.4"
  },
  "language_info": {
   "file_extension": ".jl",
   "mimetype": "application/julia",
   "name": "julia",
   "version": "1.4.2"
  },
  "toc": {
   "base_numbering": "1.0",
   "nav_menu": {},
   "number_sections": false,
   "sideBar": true,
   "skip_h1_title": false,
   "title_cell": "Table of Contents",
   "title_sidebar": "Contents",
   "toc_cell": true,
   "toc_position": {},
   "toc_section_display": true,
   "toc_window_display": true
  }
 },
 "nbformat": 4,
 "nbformat_minor": 4
}
